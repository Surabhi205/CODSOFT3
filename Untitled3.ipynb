{
  "nbformat": 4,
  "nbformat_minor": 0,
  "metadata": {
    "colab": {
      "provenance": [],
      "authorship_tag": "ABX9TyNXGWxVI7WmdNJQFeQXMu2y",
      "include_colab_link": true
    },
    "kernelspec": {
      "name": "python3",
      "display_name": "Python 3"
    },
    "language_info": {
      "name": "python"
    }
  },
  "cells": [
    {
      "cell_type": "markdown",
      "metadata": {
        "id": "view-in-github",
        "colab_type": "text"
      },
      "source": [
        "<a href=\"https://colab.research.google.com/github/Surabhi205/CODSOFT3/blob/main/Untitled3.ipynb\" target=\"_parent\"><img src=\"https://colab.research.google.com/assets/colab-badge.svg\" alt=\"Open In Colab\"/></a>"
      ]
    },
    {
      "cell_type": "code",
      "source": [
        "\n",
        "def generate_password(length):\n",
        "    characters = string.ascii_letters + string.digits + string.punctuation\n",
        "    password = ''.join(random.choice(characters) for _ in range(length))\n",
        "    return password\n",
        "\n",
        "def save_password(username, password):\n",
        "    with open(\"passwords.txt\", \"a\") as file:\n",
        "        file.write(f\"{username}:{hashlib.sha256(password.encode()).hexdigest()}\\n\")\n",
        "    print(\"Password saved successfully!\")\n",
        "\n",
        "def retrieve_password(username):\n",
        "    with open(\"passwords.txt\", \"r\") as file:\n",
        "        lines = file.readlines()\n",
        "        for line in lines:\n",
        "            stored_username, hashed_password = line.strip().split(\":\")\n",
        "            if stored_username == username:\n",
        "                return hashed_password\n",
        "    return None\n",
        "\n",
        "def password_manager():\n",
        "    print(\"Password Manager\")\n",
        "\n",
        "    while True:\n",
        "        print(\"\\n1. Generate Password\\n2. Save Password\\n3. Retrieve Password\\n4. Exit\")\n",
        "        choice = input(\"Enter your choice (1/2/3/4): \")\n",
        "\n",
        "        if choice == '1':\n",
        "            length = int(input(\"Enter the desired length of the password: \"))\n",
        "            password = generate_password(length)\n",
        "            print(\"\\nGenerated Password:\")\n",
        "            print(password)\n",
        "\n",
        "        elif choice == '2':\n",
        "            username = input(\"Enter username: \")\n",
        "            password = input(\"Enter password: \")\n",
        "            save_password(username, password)\n",
        "\n",
        "        elif choice == '3':\n",
        "            username = input(\"Enter username to retrieve password: \")\n",
        "            stored_password = retrieve_password(username)\n",
        "            if stored_password:\n",
        "                print(\"Retrieved Password:\")\n",
        "                print(stored_password)\n",
        "            else:\n",
        "                print(\"Password not found.\")\n",
        "\n",
        "        elif choice == '4':\n",
        "            print(\"Exiting Password Manager. Goodbye!\")\n",
        "            break\n",
        "\n",
        "        else:\n",
        "            print(\"Invalid choice. Please enter a valid option.\")\n",
        "\n",
        "# Run the password manager\n",
        "password_manager()\n"
      ],
      "metadata": {
        "colab": {
          "base_uri": "https://localhost:8080/"
        },
        "id": "6GDntQwPKkg8",
        "outputId": "27e40e1f-f979-449a-fc21-9de4c94c4460"
      },
      "execution_count": 4,
      "outputs": [
        {
          "output_type": "stream",
          "name": "stdout",
          "text": [
            "Password Manager\n",
            "\n",
            "1. Generate Password\n",
            "2. Save Password\n",
            "3. Retrieve Password\n",
            "4. Exit\n",
            "Enter your choice (1/2/3/4): 1\n",
            "Enter the desired length of the password: 8\n",
            "\n",
            "Generated Password:\n",
            "UQf&PU`-\n",
            "\n",
            "1. Generate Password\n",
            "2. Save Password\n",
            "3. Retrieve Password\n",
            "4. Exit\n",
            "Enter your choice (1/2/3/4): 2\n",
            "Enter username: surabhi\n",
            "Enter password: gyguyf\n",
            "Password saved successfully!\n",
            "\n",
            "1. Generate Password\n",
            "2. Save Password\n",
            "3. Retrieve Password\n",
            "4. Exit\n",
            "Enter your choice (1/2/3/4): 3\n",
            "Enter username to retrieve password: surabhi\n",
            "Retrieved Password:\n",
            "bc105094a60b90edd377bf7db754f81908c2ad7af28803c2d8f683d7a0e51803\n",
            "\n",
            "1. Generate Password\n",
            "2. Save Password\n",
            "3. Retrieve Password\n",
            "4. Exit\n",
            "Enter your choice (1/2/3/4): 4\n",
            "Exiting Password Manager. Goodbye!\n"
          ]
        }
      ]
    }
  ]
}